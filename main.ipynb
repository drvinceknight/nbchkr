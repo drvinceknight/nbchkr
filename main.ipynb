{
 "cells": [
  {
   "cell_type": "markdown",
   "metadata": {},
   "source": [
    "# Class assignment\n",
    "\n",
    "We will use this assignment to solidify our understanding of using Python to\n",
    "carry out some numerical operations and also write functions.\n",
    "\n",
    "Use this notebook to write your answers in the cells as instructed, do your\n",
    "best not to delete any of the cells that are already there.\n",
    "\n",
    "## Question one.\n",
    "\n",
    "Use python to obtain the remainder when dividing 21 by 5:\n",
    "\n",
    "\\\\[21 \\mod 5\\\\]"
   ]
  },
  {
   "cell_type": "code",
   "execution_count": 1,
   "metadata": {
    "tags": [
     "answer:q1"
    ]
   },
   "outputs": [
    {
     "data": {
      "text/plain": [
       "1"
      ]
     },
     "execution_count": 1,
     "metadata": {},
     "output_type": "execute_result"
    }
   ],
   "source": [
    "### BEGIN SOLUTION\n",
    "21 % 5\n",
    "### END SOLUTION"
   ]
  },
  {
   "cell_type": "code",
   "execution_count": 2,
   "metadata": {
    "tags": [
     "score:1"
    ]
   },
   "outputs": [],
   "source": [
    "q1_answer = _\n",
    "feedback_text = \"Your operation did not return an integer which is expected\"\n",
    "assert type(q1_answer) is int, feedback_text"
   ]
  },
  {
   "cell_type": "code",
   "execution_count": 3,
   "metadata": {
    "tags": [
     "score:3"
    ]
   },
   "outputs": [],
   "source": [
    "feedback_text = \"The expected answer is 1 because 21 = 5 * 3 + 1\"\n",
    "assert q1_answer == 1, feedback_text"
   ]
  },
  {
   "cell_type": "markdown",
   "metadata": {},
   "source": [
    "## Question two.\n",
    "\n",
    "Write a python function `get_remainder(m, n)` that returns the remainder\n",
    "the remainder when dividing \\\\(m\\\\) by \\\\(n\\\\).\n",
    "\n",
    "\\\\[m \\mod n\\\\]"
   ]
  },
  {
   "cell_type": "code",
   "execution_count": 4,
   "metadata": {
    "tags": [
     "answer:q2"
    ]
   },
   "outputs": [],
   "source": [
    "def get_remainder(m, n):\n",
    "    ### BEGIN SOLUTION\n",
    "    \"\"\"\n",
    "    This function returns the remainder of m when dividing by n\n",
    "    \"\"\"\n",
    "    return m % n\n",
    "    ### END SOLUTION"
   ]
  },
  {
   "cell_type": "code",
   "execution_count": 5,
   "metadata": {
    "tags": [
     "score:1"
    ]
   },
   "outputs": [],
   "source": [
    "feedback_text = \"\"\"You did not include a docstring. This is important to help document your code. \n",
    "\n",
    "\n",
    "It is done  using triple quotation marks. For example:\n",
    "\n",
    "def get_remainder(m, n):\n",
    "    \\\"\\\"\\\"\n",
    "    This function returns the remainder of m when dividing by n\n",
    "    \\\"\\\"\\\"\n",
    "    ...\n",
    "    \n",
    "Using that it's possible to access the docstring, \n",
    "one way to do this is to type: `get_remainder?` \n",
    "(which only works in Jupyter) or help(get_remainder).\n",
    "\n",
    "We can also comment code using `#` but this is completely \n",
    "ignored by Python so cannot be accessed in the same way.\n",
    "\n",
    "\"\"\"\n",
    "assert get_remainder.__doc__ is not None, feedback_text"
   ]
  },
  {
   "cell_type": "code",
   "execution_count": 6,
   "metadata": {
    "tags": [
     "score:6"
    ]
   },
   "outputs": [],
   "source": [
    "assert (\n",
    "    get_remainder(5, 3) == 2\n",
    "), \"Incorrect answer for m=5, n=3: 5 mod 2 = 1 because 5 = 3 * 1 + 2\"\n",
    "assert (\n",
    "    get_remainder(34, 21) == 13\n",
    "), \"Incorrect answer for m=34, n=21: 34 mod 21 = 13 because 34 = 21 * 1 + 13\"\n",
    "assert (\n",
    "    get_remainder(1000, 10) == 0\n",
    "), \"Incorrect answer for m=1000, n=10: 1000 mod 10 = 0 because 1000 = 10 * 100 + 0\""
   ]
  }
 ],
 "metadata": {
  "celltoolbar": "Tags",
  "kernelspec": {
   "display_name": "Python 3",
   "language": "python",
   "name": "python3"
  },
  "language_info": {
   "codemirror_mode": {
    "name": "ipython",
    "version": 3
   },
   "file_extension": ".py",
   "mimetype": "text/x-python",
   "name": "python",
   "nbconvert_exporter": "python",
   "pygments_lexer": "ipython3",
   "version": "3.7.1"
  }
 },
 "nbformat": 4,
 "nbformat_minor": 4
}
